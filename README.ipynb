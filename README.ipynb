{
 "cells": [
  {
   "cell_type": "markdown",
   "id": "f623af46",
   "metadata": {},
   "source": [
    "# Final Project Robotics Manipulation: Milestone 2\n",
    "\n",
    "By: *Ryan King-Shepard*"
   ]
  },
  {
   "cell_type": "markdown",
   "id": "ed2c4cee",
   "metadata": {},
   "source": [
    "## Contents\n",
    "\n",
    "The following contents of the assignment are:\n",
    "\n",
    "1. code/ \n",
    "    - Directory of the code files\n",
    "        - `mile2.py`: Contains the TrajectoryGenerator function used to craft the trajectory for milestone2\n",
    "        - `run.py`: Main executable for milestone 2\n",
    "2. output.csv\n",
    "    - Example csv used to produce coppelia sim animation with scene 8\n",
    "3. KingShepard_Ryan_milestone2.mp4 \n",
    "    - Video of Coppelia Sim Animation \n",
    "4. README.pdf\n",
    "    - TIS I, THE DOCUMENT BEFORE YOU!"
   ]
  },
  {
   "cell_type": "markdown",
   "id": "808560ef",
   "metadata": {},
   "source": [
    "## Code Dependencies\n",
    "\n",
    "The code for milestone2 depends on the modern_robotics package, numpy, argparse and csv. The Python Standard Libraries should already contain argparse and csv; if they are not present, use `pip install [package]` to add them to your python libs. You will need to install modern_robotics(instructions [here](https://github.com/NxRLab/ModernRobotics/tree/master/packages/Python)) and numpy(instructions [here](https://numpy.org/install/))"
   ]
  },
  {
   "cell_type": "markdown",
   "id": "000a1605",
   "metadata": {},
   "source": [
    "## Code Execution\n",
    "\n",
    "The main execution script for this milestone is `rain.py`. This file interfaces with the user for arguments and calls the TrajectoryGenerator in `mile2.py` to produce the outputs\n",
    "\n",
    "```\n",
    "./run.py -h\n",
    "usage: run.py [-h] [--ani-file ANI_FILE] [--only_mile1] [--only_mile2]\n",
    "              [--only_mile3]\n",
    "\n",
    "Calculate and output csv for final project animations\n",
    "\n",
    "optional arguments:\n",
    "  -h, --help           show this help message and exit\n",
    "  --ani-file ANI_FILE  output csv for animations. Currently only supports\n",
    "                       milestone 2. Defaults to \"ani_file.csv\"\n",
    "  --only_mile1         produce only the outputs for milestone 1\n",
    "  --only_mile2         produce only the outputs for milestone 2\n",
    "  --only_mile3         produce only the outputs for milestone 3\n",
    "\n",
    "```\n",
    "\n",
    "To produce a file called `output.csv` with the transformation matrices and gripper commands run: \n",
    "\n",
    "`python3 run.py --only_mile2 --ani-file 'output.csv'`\n",
    "\n"
   ]
  },
  {
   "cell_type": "markdown",
   "id": "96fd2d12",
   "metadata": {},
   "source": [
    "## Solution Summary\n",
    "\n",
    "The goal of milestone 2 is to craft a series of end-effector trajectories to transport a 5cm<sup>3</sup> cube from it's initial orientation to the goal orientation. This is achieved by calculating four end-effector poses and forming trajectories between them. The four poses are the robot's standoff position for when its about to pick up and drop off the cube, the initial pose of the cube, and the desired pose for the cube. We define these poses as matrices in the SE(3) group and are given the initial position of the end-effector in the space frame(T<sub>se</sub>), the initial cube position in the space frame (T<sub>sc_init</sub>) and the desired cube position(T<sub>sc_goal</sub>). \n",
    "\n",
    "I chose matrices T<sub>ce_standoff</sub> and T<sub>ce_grasp</sub> as representation of the end-effector's poses in the cube's frame when the robot is in the standoff pose or about to grab/release the cube. \n",
    "\n",
    "```python\n",
    "# This is defined in `run.py` as well\n",
    "T_ce_standoff = [[-sqrt(2)/2,  0,  sqrt(2)/2,  0.0085]\n",
    "                 [0,           1,          0,       0]\n",
    "                 [-sqrt(2)/2,  0, -sqrt(2)/2,     .03]\n",
    "                 [0,           0,          0,       1]]\n",
    "\n",
    "T_ce_grasp = [[-sqrt(2)/2,  0,  sqrt(2)/2,  0.0085]\n",
    "              [0,           1,          0,       0]\n",
    "              [-sqrt(2)/2,  0, -sqrt(2)/2,       0]\n",
    "              [0,           0,          0,       1]]\n",
    "```\n",
    "\n",
    "We can then multiply the matrices to grab the four positions:\n",
    "\n",
    " - T<sub>sc_init</sub>\\*T<sub>ce_standoff</sub> = standoff pose to pick up cube\n",
    " - T<sub>sc_init</sub>\\*T<sub>ce_grasp</sub> = pose to pick up cube\n",
    " - T<sub>sc_goal</sub>\\*T<sub>ce_standoff</sub> = standoff pose to drop off cube\n",
    " - T<sub>sc_goal</sub>\\*T<sub>ce_grasp</sub> = pose to drop off cube\n",
    " \n",
    "For trajectory planning, I used ScrewTrajectory planning for getting the robot's end-effector into the standoff position since these movement involved a rotation and translation of the end-effector's frame. Cartesian Trajectory was used to plan the tiny movements of picking up or placing the cube on the ground. These movements only involve a translation of the end-effector's frame so the plan compartmentalized to avoid any unnecessary rotations. "
   ]
  }
 ],
 "metadata": {
  "kernelspec": {
   "display_name": "Python 3 (ipykernel)",
   "language": "python",
   "name": "python3"
  },
  "language_info": {
   "codemirror_mode": {
    "name": "ipython",
    "version": 3
   },
   "file_extension": ".py",
   "mimetype": "text/x-python",
   "name": "python",
   "nbconvert_exporter": "python",
   "pygments_lexer": "ipython3",
   "version": "3.8.10"
  }
 },
 "nbformat": 4,
 "nbformat_minor": 5
}
