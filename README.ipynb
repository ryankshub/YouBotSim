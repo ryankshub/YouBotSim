{
 "cells": [
  {
   "cell_type": "markdown",
   "id": "3e5f2175",
   "metadata": {},
   "source": [
    "# Final Project Robotics Manipulation"
   ]
  },
  {
   "cell_type": "markdown",
   "id": "f1d00be2",
   "metadata": {},
   "source": [
    "## Contents\n",
    "\n",
    "The following contents of the assignment are:\n",
    "\n",
    "1. code/ \n",
    "    - Directory of the code files\n",
    "        - `mile2.py`: Contains the TrajectoryGenerator function used to craft the trajectory for milestone2\n",
    "        - `run.py`: Main executable for milestone 2\n",
    "2. output.csv\n",
    "    - Example csv used to produce coppelia sim animation with scene 8\n",
    "3. KingShepard_Ryan_milestone2.mp4 \n",
    "    - Video of Coppelia Sim Animation \n",
    "4. README.pdf\n",
    "    - TIS I, THE DOCUMENT BEFORE YOU!"
   ]
  },
  {
   "cell_type": "markdown",
   "id": "d30edda6",
   "metadata": {},
   "source": [
    "## Code Dependencies\n",
    "\n",
    "The code for milestone2 depends on the modern_robotics package, numpy, argparse and csv. The Python Standard Libraries should already contain argparse and csv; if they are not present, use `pip install [package]` to add them to your python libs. You will need to install modern_robotics(instructions [here](https://github.com/NxRLab/ModernRobotics/tree/master/packages/Python)) and numpy(instructions [here](https://numpy.org/install/))"
   ]
  },
  {
   "cell_type": "markdown",
   "id": "33683164",
   "metadata": {},
   "source": [
    "## Code Execution\n",
    "\n",
    "The main execution script for this milestone is `rain.py`. This file interfaces with the user for arguments and calls the TrajectoryGenerator in `mile2.py` to produce the outputs\n",
    "\n",
    "```bash\n",
    "./run.py -h\n",
    "usage: run.py [-h] [--ani-file ANI_FILE] [--only_mile1] [--only_mile2]\n",
    "              [--only_mile3]\n",
    "\n",
    "Calculate and output csv for final project animations\n",
    "\n",
    "optional arguments:\n",
    "  -h, --help           show this help message and exit\n",
    "  --ani-file ANI_FILE  output csv for animations. Currently only supports\n",
    "                       milestone 2. Defaults to \"ani_file.csv\"\n",
    "  --only_mile1         produce only the outputs for milestone 1\n",
    "  --only_mile2         produce only the outputs for milestone 2\n",
    "  --only_mile3         produce only the outputs for milestone 3\n",
    "\n",
    "```\n",
    "\n",
    "To produce a file called `output.csv` with the transformation matrices and gripper commands run: \n",
    "\n",
    "`python3 run.py --only_mile2 --ani-file 'output.csv'`\n",
    "\n"
   ]
  }
 ],
 "metadata": {
  "kernelspec": {
   "display_name": "Python 3 (ipykernel)",
   "language": "python",
   "name": "python3"
  },
  "language_info": {
   "codemirror_mode": {
    "name": "ipython",
    "version": 3
   },
   "file_extension": ".py",
   "mimetype": "text/x-python",
   "name": "python",
   "nbconvert_exporter": "python",
   "pygments_lexer": "ipython3",
   "version": "3.8.10"
  }
 },
 "nbformat": 4,
 "nbformat_minor": 5
}
