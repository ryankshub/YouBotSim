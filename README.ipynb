{
 "cells": [
  {
   "cell_type": "markdown",
   "id": "f623af46",
   "metadata": {},
   "source": [
    "# Final Project Robotics Manipulation\n",
    "\n",
    "By: *Ryan King-Shepard*"
   ]
  },
  {
   "cell_type": "markdown",
   "id": "ed2c4cee",
   "metadata": {},
   "source": [
    "## Contents\n",
    "\n",
    "The following contents of the assignment are:\n",
    "\n",
    "1. code/ \n",
    "    - Directory of the code files\n",
    "        - `mile1.py`: Contains the NextState function used to integrate velocities to produce next chassis, wheel, and joint configurations (milestone1 code)\n",
    "        - `mile2.py`: Contains the TrajectoryGenerator function used to craft the trajectory for milestone2\n",
    "        - `mile3.py`: Contatins the GetPinvJacobian and FeedBackControl function used to calculate the velocities\n",
    "        - `run.py`: Main executable\n",
    "        - `util.py`: Contains plotting function for Xerr plots\n",
    "\n",
    "\n",
    "2. results/\n",
    "    - Directory with results of 'best', 'overshoot', and 'new_task'. Each sub_directory has the generated Coppella sim .csv `output.csv`, the corresponding Xerr log `output_xerr.csv`, a plot of the error response `YouBotErrorResp.png`, a Coppella video `[directory name]_bev.mp4` of the robot performing it's tasks, a `README.txt` with controller types and gains, as well as an script logfile `[directory name]_log.txt` to show the output the program should have. \n",
    "    \n",
    "    \n",
    "3. README.pdf\n",
    "    - TIS I, NOW WITH SHINY DLC FROM MILESTONE 1 and 3!"
   ]
  },
  {
   "cell_type": "markdown",
   "id": "808560ef",
   "metadata": {},
   "source": [
    "## Code Dependencies\n",
    "\n",
    "The code for this project depends on the modern_robotics package, numpy, argparse and csv. The Python Standard Libraries should already contain argparse and csv; if they are not present, use `pip install [package]` to add them to your python libs. You will need to install modern_robotics(instructions [here](https://github.com/NxRLab/ModernRobotics/tree/master/packages/Python)) and numpy(instructions [here](https://numpy.org/install/))"
   ]
  },
  {
   "cell_type": "markdown",
   "id": "000a1605",
   "metadata": {},
   "source": [
    "## Code Execution\n",
    "\n",
    "The main execution script for this milestone is `run.py`. Below is a copy of the valid arguments\n",
    "\n",
    "```\n",
    "usage: run.py [-h] [--output OUTPUT] [--kp KP] [--ki KI]\n",
    "              [--init_q_config CHASSIS_PHI CHASSIS_X CHASSIS_Y]\n",
    "              [--init_joint_angles JOINT_POS1 JOINT_POS2 JOINT_POS3 JOINT_POS4 JOINT_POS5]\n",
    "              [--new_task] [--test_mile1] [--test_mile2] [--test_mile3]\n",
    "\n",
    "Calculate and output csv for final project animations\n",
    "\n",
    "optional arguments:\n",
    "  -h, --help            show this help message and exit\n",
    "  --output OUTPUT       output csv for animations. Currently only supports\n",
    "                        milestone 2. Defaults to \"output.csv\"\n",
    "  --kp KP               Proportional gain for the feedback controller.\n",
    "                        Defaults to 0\n",
    "  --ki KI               Integral gain for the feedback controller. Defaults to\n",
    "                        0\n",
    "  --init_q_config CHASSIS_PHI CHASSIS_X CHASSIS_Y\n",
    "                        Initial chassis configuration; default is s-frame\n",
    "                        origin\n",
    "  --init_joint_angles JOINT_POS1 JOINT_POS2 JOINT_POS3 JOINT_POS4 JOINT_POS5\n",
    "                        Initial joint positions(rad); default is (-np.pi/10,\n",
    "                        -np.pi/20, -np.pi/20, -np.pi/2, 0.0)\n",
    "  --new_task            To show robot grabbing block behind it\n",
    "  --test_mile1          produce only the outputs for milestone 1\n",
    "  --test_mile2          produce only the outputs for milestone 2\n",
    "  --test_mile3          produce only the outputs for milestone 3\n",
    "\n",
    "```\n",
    "\n",
    "For a simple example to reproduce the outcome in the `results\\best` directory: \n",
    "\n",
    "`python3 run.py --init_q_config 0.5236 0.1 0.1 --kp 5.5`\n",
    "\n",
    "Note: if run.py is already seen as an executable, you can also use:\n",
    "\n",
    "`./run.py --init_q_config 0.5236 0.1 0.1 --kp 5.5`\n",
    "\n",
    "By default, run should be seen as an executable, but just in-case the grader has a different OS, the python3 option should always work. Note: the logfiles in each directory will use the `./`.\n",
    "\n"
   ]
  },
  {
   "cell_type": "markdown",
   "id": "96fd2d12",
   "metadata": {},
   "source": [
    "## Solution Summary\n",
    "\n",
    "For the final project, we combined the work of milestone 2 with the new implemenations of milestone 1 and milestone 3 to have the YouBot complete a mobile manipulation objective. The main process of the software is as such:\n",
    "\n",
    "1. Generate an end-effector trajectory of the objective being complete. \n",
    "2. Loop through the trajectory, for each iteration\n",
    "    i. Determine the current configuration using odometry of current configurations\n",
    "    ii. Use the psuedo-inverse Jacobian and Feedback Control to determine velocities\n",
    "    iii. Apply Euler's integration to produce new chassis, wheel, and joint configuration\n",
    "3. Compile data into logs and plot Xerr to judge controller performance\n",
    "\n",
    "Below are three Xerr plots from 'overshoot', 'best', and 'new_task' For the 'overshoot' and 'best' section, the robot performs the original task of moving the cube from (1, 0) to (0, -1) with a 90 degree clockwise change in its orientation. For 'new_task', the robot moves the cube from (.5, .5) to (.5, -.5) with the same 90 degree clockwise change. I chose this new_task because I wanted to see how screw trajectory planning would work for a path that's basically cartesian.\n",
    "\n",
    "\n",
    "**Overshoot**\n",
    "![Overshoot](results/overshoot/YouBotErrorResp.png)\n",
    "\n",
    "For the overshoot, we were trying to design a system too have an underdamped response, resulting it a oscillation before stabilizing. For this, we used a PI controller with feedforward equipped with **gains KP = 2 and KI = 4**. I chose a high KI because I wanted the roots to be complex conjugates in order to cause osciallations. I had to be careful not to pick a high KI, or the errors from integration would be too high. \n",
    "\n",
    "\n",
    "**Best**\n",
    "![Best](results/best/YouBotErrorResp.png)\n",
    "\n",
    "For the best, I decided to only use a **KP gain of 5.5** to drive the system to converge. There are some minor error from tracking the target, but the controller is able to complete the task. Rather than try to tune an integral gain for no overshoot, I think I would have prefered to alter the rate at which the controller processed (currently at dt=0.01) or add a derivative component instead to deal with the lagging response. \n",
    "\n",
    "**New_task**\n",
    "![NewTask](results/newTask/YouBotErrorResp.png)\n",
    "\n",
    "For the new_task, I decided to use a **KP gain of 4**. Based on tuning for 'best' and 'overshoot', It seemed like a simple P-controller with feedforward could accomplish the goal. There are some tracking errors, but they are fairly small. In the future, I'd like to swap out Euler's Intergration with RK4 to limit simulation error and get a better picture of the scale of tracking errors. "
   ]
  }
 ],
 "metadata": {
  "kernelspec": {
   "display_name": "Python 3 (ipykernel)",
   "language": "python",
   "name": "python3"
  },
  "language_info": {
   "codemirror_mode": {
    "name": "ipython",
    "version": 3
   },
   "file_extension": ".py",
   "mimetype": "text/x-python",
   "name": "python",
   "nbconvert_exporter": "python",
   "pygments_lexer": "ipython3",
   "version": "3.8.10"
  }
 },
 "nbformat": 4,
 "nbformat_minor": 5
}
